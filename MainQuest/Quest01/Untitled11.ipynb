{
  "nbformat": 4,
  "nbformat_minor": 0,
  "metadata": {
    "colab": {
      "provenance": [],
      "authorship_tag": "ABX9TyPTQA3xxLsmvTsY+9lOvABI",
      "include_colab_link": true
    },
    "kernelspec": {
      "name": "python3",
      "display_name": "Python 3"
    },
    "language_info": {
      "name": "python"
    }
  },
  "cells": [
    {
      "cell_type": "markdown",
      "metadata": {
        "id": "view-in-github",
        "colab_type": "text"
      },
      "source": [
        "<a href=\"https://colab.research.google.com/github/Chochoho/AIFFEL_quest_cr/blob/main/MainQuest/Quest01/Untitled11.ipynb\" target=\"_parent\"><img src=\"https://colab.research.google.com/assets/colab-badge.svg\" alt=\"Open In Colab\"/></a>"
      ]
    },
    {
      "cell_type": "code",
      "execution_count": 1,
      "metadata": {
        "colab": {
          "base_uri": "https://localhost:8080/"
        },
        "id": "WMLvfsA33_QX",
        "outputId": "7ca2d26a-385a-420c-d403-41bf9c4ac20f"
      },
      "outputs": [
        {
          "output_type": "stream",
          "name": "stdout",
          "text": [
            "1,000원이 입금되었습니다. 잔액: 2,000원\n",
            "1,000원이 입금되었습니다. 잔액: 3,000원\n",
            "1,000원이 입금되었습니다. 잔액: 4,000원\n",
            "1,000원이 입금되었습니다. 잔액: 5,000원\n",
            "1,000원이 입금되었습니다. 잔액: 6,000원\n",
            "360원의 이자가 지급되었습니다. 잔액: 6,360원\n",
            "1,000원이 입금되었습니다. 잔액: 7,360원\n",
            "1,000원이 입금되었습니다. 잔액: 8,360원\n",
            "1,000원이 입금되었습니다. 잔액: 9,360원\n",
            "1,000원이 입금되었습니다. 잔액: 10,360원\n",
            "3,000원이 출금되었습니다. 잔액: 7,360원\n",
            "810원의 이자가 지급되었습니다. 잔액: 8,170원\n",
            "거래 내역:\n",
            "1회: 입금       금액: 1,000  잔액: 2,000 \n",
            "2회: 입금       금액: 1,000  잔액: 3,000 \n",
            "3회: 입금       금액: 1,000  잔액: 4,000 \n",
            "4회: 입금       금액: 1,000  잔액: 5,000 \n",
            "5회: 입금       금액: 1,000  잔액: 6,000 \n",
            "6회: 이자지급     금액: 360    잔액: 6,360 \n",
            "7회: 입금       금액: 1,000  잔액: 7,360 \n",
            "8회: 입금       금액: 1,000  잔액: 8,360 \n",
            "9회: 입금       금액: 1,000  잔액: 9,360 \n",
            "10회: 입금       금액: 1,000  잔액: 10,360\n",
            "11회: 출금       금액: 3,000  잔액: 7,360 \n",
            "12회: 이자지급     금액: 810    잔액: 8,170 \n",
            "--------------------------------------------------\n",
            "은행: SC은행, 예금주: 차정은, 계좌번호: 214-70-417369, 잔액: 8,170원\n",
            "\n",
            "100만원 이상 계좌 정보:\n",
            "은행: SC은행, 예금주: 박광석, 계좌번호: 042-90-592454, 잔액: 30,000,000원\n",
            "은행: SC은행, 예금주: 조웅제, 계좌번호: 842-60-441827, 잔액: 50,000,000원\n"
          ]
        }
      ],
      "source": [
        "import random\n",
        "\n",
        "class Account:\n",
        "    account_count = 0  # 총 계좌 개수를 세요\n",
        "\n",
        "    def __init__(self, name, balance):\n",
        "        self.name = name\n",
        "        self.balance = balance\n",
        "        self.bank = \"SC은행\"\n",
        "        self.account_number = f\"{random.randint(0, 999):03}-{random.randint(0, 99):02}-{random.randint(0, 999999):06}\"\n",
        "        self.transaction_log = []\n",
        "        Account.account_count += 1\n",
        "\n",
        "    @classmethod\n",
        "    def get_account_num(cls):\n",
        "        print(f\"총 계좌 개수: {cls.account_count}\")\n",
        "\n",
        "    def deposit(self, amount):\n",
        "        if amount >= 1:\n",
        "            self.balance += amount\n",
        "            self.transaction_log.append((\"입금\", amount, self.balance))\n",
        "            print(f\"{amount:,}원이 입금되었습니다. 잔액: {self.balance:,}원\")\n",
        "        else:\n",
        "            print(\"입금은 최소 1원 이상만 가능합니다.\")\n",
        "\n",
        "    def withdraw(self, amount):\n",
        "        if amount <= self.balance:\n",
        "            self.balance -= amount\n",
        "            self.transaction_log.append((\"출금\", amount, self.balance))\n",
        "            print(f\"{amount:,}원이 출금되었습니다. 잔액: {self.balance:,}원\")\n",
        "        else:\n",
        "            print(\"잔액이 부족합니다.\")\n",
        "\n",
        "    def add_interest(self, rate):\n",
        "        interest = round(self.balance * rate / 100)  # round를 사용해 정확한 계산\n",
        "        self.balance += interest\n",
        "        self.transaction_log.append((\"이자지급\", interest, self.balance))\n",
        "        print(f\"{interest:,}원의 이자가 지급되었습니다. 잔액: {self.balance:,}원\")\n",
        "\n",
        "    def display_info(self):\n",
        "        print(f\"은행: {self.bank}, 예금주: {self.name}, 계좌번호: {self.account_number}, 잔액: {self.balance:,.0f}원\")\n",
        "\n",
        "    def show_transactions(self):\n",
        "        print(\"거래 내역:\")\n",
        "        for i, (t_type, amount, balance) in enumerate(self.transaction_log, 1):\n",
        "            print(f\"{i}회: {t_type:<8} 금액: {amount:<6,} 잔액: {balance:<6,}\")\n",
        "\n",
        "if __name__ == \"__main__\":\n",
        "    my_account = Account('차정은', 1000)\n",
        "\n",
        "    # 입금 5회\n",
        "    for _ in range(5):\n",
        "        my_account.deposit(1000)\n",
        "\n",
        "    # 이자 지급 (6%)\n",
        "    my_account.add_interest(6)\n",
        "\n",
        "    # 입금 4회 (조정)\n",
        "    for _ in range(4):\n",
        "        my_account.deposit(1000)\n",
        "\n",
        "    # 출금 3,000원 (조정 후 이자 지급 전 수행)\n",
        "    my_account.withdraw(3000)\n",
        "\n",
        "    # 이자 지급 (11%)\n",
        "    my_account.add_interest(11)\n",
        "\n",
        "    # 거래 내역 출력\n",
        "    my_account.show_transactions()\n",
        "\n",
        "    print('-' * 50)\n",
        "    my_account.display_info()\n",
        "\n",
        "    # 계좌 리스트 생성\n",
        "    account_list = [\n",
        "        Account('박광석', 30000000),\n",
        "        Account('조웅제', 50000000),\n",
        "        my_account\n",
        "    ]\n",
        "\n",
        "    # 100만원 이상 계좌 정보 리스트 출력\n",
        "    print(\"\\n100만원 이상 계좌 정보:\")\n",
        "    filtered_accounts = [account for account in account_list if account.balance >= 1000000]\n",
        "    for account in filtered_accounts:\n",
        "        account.display_info()\n"
      ]
    }
  ]
}