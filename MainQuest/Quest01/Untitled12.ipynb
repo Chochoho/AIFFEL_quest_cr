{
  "nbformat": 4,
  "nbformat_minor": 0,
  "metadata": {
    "colab": {
      "provenance": [],
      "authorship_tag": "ABX9TyMxNM+hcw2T69G4megdFExp",
      "include_colab_link": true
    },
    "kernelspec": {
      "name": "python3",
      "display_name": "Python 3"
    },
    "language_info": {
      "name": "python"
    }
  },
  "cells": [
    {
      "cell_type": "markdown",
      "metadata": {
        "id": "view-in-github",
        "colab_type": "text"
      },
      "source": [
        "<a href=\"https://colab.research.google.com/github/Chochoho/AIFFEL_quest_cr/blob/main/MainQuest/Quest01/Untitled12.ipynb\" target=\"_parent\"><img src=\"https://colab.research.google.com/assets/colab-badge.svg\" alt=\"Open In Colab\"/></a>"
      ]
    },
    {
      "cell_type": "code",
      "execution_count": 10,
      "metadata": {
        "colab": {
          "base_uri": "https://localhost:8080/"
        },
        "id": "_3Cyfgqu7F4A",
        "outputId": "42e66943-b757-4958-9bad-f3a0fb78416a"
      },
      "outputs": [
        {
          "output_type": "stream",
          "name": "stdout",
          "text": [
            "위험! 슬라임가 나타났습니다!\n",
            "용감한 전사가 슬라임를 공격했습니다. 슬라임의 남은 체력: 2\n",
            "슬라임가 용감한 전사를 공격했습니다. 용감한 전사의 남은 체력: 47\n",
            "용감한 전사가 슬라임를 공격했습니다. 슬라임의 남은 체력: 0\n",
            "용감한 전사가 슬라임를 물리쳤습니다!\n",
            "용감한 전사이 레벨업 했습니다! 현재 레벨: 2.\n",
            "위험! 고블린가 나타났습니다!\n",
            "용감한 전사가 고블린를 공격했습니다. 고블린의 남은 체력: 8\n",
            "고블린가 용감한 전사를 공격했습니다. 용감한 전사의 남은 체력: 41\n",
            "용감한 전사가 고블린를 공격했습니다. 고블린의 남은 체력: 4\n",
            "고블린가 용감한 전사를 공격했습니다. 용감한 전사의 남은 체력: 40\n",
            "용감한 전사가 고블린를 공격했습니다. 고블린의 남은 체력: 0\n",
            "용감한 전사가 고블린를 물리쳤습니다!\n",
            "용감한 전사이 레벨업 했습니다! 현재 레벨: 3.\n",
            "위험! 오크가 나타났습니다!\n",
            "용감한 전사가 오크를 공격했습니다. 오크의 남은 체력: 26\n",
            "오크가 용감한 전사를 공격했습니다. 용감한 전사의 남은 체력: 33\n",
            "용감한 전사가 오크를 공격했습니다. 오크의 남은 체력: 19\n",
            "오크가 용감한 전사를 공격했습니다. 용감한 전사의 남은 체력: 25\n",
            "용감한 전사가 오크를 공격했습니다. 오크의 남은 체력: 5\n",
            "오크가 용감한 전사를 공격했습니다. 용감한 전사의 남은 체력: 18\n",
            "용감한 전사가 오크를 공격했습니다. 오크의 남은 체력: 2\n",
            "오크가 용감한 전사를 공격했습니다. 용감한 전사의 남은 체력: 12\n",
            "용감한 전사가 오크를 공격했습니다. 오크의 남은 체력: 0\n",
            "용감한 전사가 오크를 물리쳤습니다!\n",
            "용감한 전사이 레벨업 했습니다! 현재 레벨: 4.\n",
            "축하합니다! 모든 몬스터를 물리쳤습니다!\n"
          ]
        }
      ],
      "source": [
        "import random\n",
        "\n",
        "class Character:\n",
        "    def __init__(self, name, health, attack):\n",
        "        self.name = name\n",
        "        self.health = health\n",
        "        self.attack = attack\n",
        "\n",
        "    def is_alive(self):\n",
        "        return self.health > 0\n",
        "\n",
        "    def take_damage(self, damage):\n",
        "        self.health -= damage\n",
        "        if self.health < 0:\n",
        "            self.health = 0\n",
        "\n",
        "    def attack_target(self, target):\n",
        "        damage = random.randint(1, self.attack)\n",
        "        target.take_damage(damage)\n",
        "\n",
        "class Player(Character):\n",
        "    def __init__(self, name):\n",
        "        super().__init__(name, health=50, attack=10)\n",
        "        self.level = 1\n",
        "\n",
        "    def level_up(self):\n",
        "        self.level += 1\n",
        "        self.attack += 2\n",
        "        print(f\"{self.name}이 레벨업 했습니다! 현재 레벨: {self.level}.\")\n",
        "\n",
        "class Monster(Character):\n",
        "    def __init__(self, name, level):\n",
        "        health = level * 10\n",
        "        attack = level * 3\n",
        "        super().__init__(name, health, attack)\n",
        "\n",
        "def battle(player, monster):\n",
        "    print(f\"위험! {monster.name}가 나타났습니다!\")\n",
        "\n",
        "    while player.is_alive() and monster.is_alive():\n",
        "        player.attack_target(monster)\n",
        "        print(f\"{player.name}가 {monster.name}를 공격했습니다. {monster.name}의 남은 체력: {monster.health}\")\n",
        "\n",
        "        if monster.is_alive():\n",
        "            monster.attack_target(player)\n",
        "            print(f\"{monster.name}가 {player.name}를 공격했습니다. {player.name}의 남은 체력: {player.health}\")\n",
        "\n",
        "    if player.is_alive():\n",
        "        print(f\"{player.name}가 {monster.name}를 물리쳤습니다!\")\n",
        "        player.level_up()\n",
        "    else:\n",
        "        print(f\"{player.name}가 {monster.name}에게 패배했습니다...\")\n",
        "\n",
        "def main():\n",
        "    monsters = [\n",
        "        Monster(\"슬라임\", 1),\n",
        "        Monster(\"고블린\", 2),\n",
        "        Monster(\"오크\", 3)\n",
        "    ]\n",
        "\n",
        "    player = Player(\"용감한 전사\")\n",
        "\n",
        "    for monster in monsters:\n",
        "        battle(player, monster)\n",
        "        if not player.is_alive():\n",
        "            print(\"게임 오버! 다음에 다시 도전하세요.\")\n",
        "            return\n",
        "\n",
        "    print(\"축하합니다! 모든 몬스터를 물리쳤습니다!\")\n",
        "\n",
        "if __name__ == \"__main__\":\n",
        "    main()\n",
        "\n"
      ]
    }
  ]
}