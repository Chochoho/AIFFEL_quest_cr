{
  "nbformat": 4,
  "nbformat_minor": 0,
  "metadata": {
    "colab": {
      "provenance": [],
      "authorship_tag": "ABX9TyPe/r9eWDnDXehx5Afh07Cu",
      "include_colab_link": true
    },
    "kernelspec": {
      "name": "python3",
      "display_name": "Python 3"
    },
    "language_info": {
      "name": "python"
    }
  },
  "cells": [
    {
      "cell_type": "markdown",
      "metadata": {
        "id": "view-in-github",
        "colab_type": "text"
      },
      "source": [
        "<a href=\"https://colab.research.google.com/github/Chochoho/AIFFEL_quest_cr/blob/main/MainQuest/Quest01/Untitled12.ipynb\" target=\"_parent\"><img src=\"https://colab.research.google.com/assets/colab-badge.svg\" alt=\"Open In Colab\"/></a>"
      ]
    },
    {
      "cell_type": "code",
      "execution_count": 9,
      "metadata": {
        "colab": {
          "base_uri": "https://localhost:8080/"
        },
        "id": "_3Cyfgqu7F4A",
        "outputId": "ff89ba19-9562-4eee-9477-103c2c2dfc44"
      },
      "outputs": [
        {
          "output_type": "stream",
          "name": "stdout",
          "text": [
            "안돼! 슬라임 가 나타났어!\n",
            "너는 슬라임을 때렸어! 체력이 7 만큼 남았어.\n",
            "슬라임 가 널 때렸어! 너는 47 만큼 체력이 남았어t.\n",
            "너는 슬라임을 때렸어! 체력이 1 만큼 남았어.\n",
            "슬라임 가 널 때렸어! 너는 44 만큼 체력이 남았어t.\n",
            "너는 슬라임을 때렸어! 체력이 0 만큼 남았어.\n",
            "넌 슬라임을 이겼어! 잘했어!\n",
            "Hero 레벨업! 이제 레벨 2야.\n",
            "안돼! 고블린 가 나타났어!\n",
            "너는 고블린을 때렸어! 체력이 11 만큼 남았어.\n",
            "고블린 가 널 때렸어! 너는 40 만큼 체력이 남았어t.\n",
            "너는 고블린을 때렸어! 체력이 9 만큼 남았어.\n",
            "고블린 가 널 때렸어! 너는 35 만큼 체력이 남았어t.\n",
            "너는 고블린을 때렸어! 체력이 0 만큼 남았어.\n",
            "넌 고블린을 이겼어! 잘했어!\n",
            "Hero 레벨업! 이제 레벨 3야.\n",
            "안돼! 오크 가 나타났어!\n",
            "너는 오크을 때렸어! 체력이 20 만큼 남았어.\n",
            "오크 가 널 때렸어! 너는 31 만큼 체력이 남았어t.\n",
            "너는 오크을 때렸어! 체력이 12 만큼 남았어.\n",
            "오크 가 널 때렸어! 너는 29 만큼 체력이 남았어t.\n",
            "너는 오크을 때렸어! 체력이 2 만큼 남았어.\n",
            "오크 가 널 때렸어! 너는 21 만큼 체력이 남았어t.\n",
            "너는 오크을 때렸어! 체력이 0 만큼 남았어.\n",
            "넌 오크을 이겼어! 잘했어!\n",
            "Hero 레벨업! 이제 레벨 4야.\n",
            "전투 승리\n"
          ]
        }
      ],
      "source": [
        "import random\n",
        "\n",
        "class Character:\n",
        "    def __init__(self, name, health, attack):\n",
        "        self.name = name\n",
        "        self.health = health\n",
        "        self.attack = attack\n",
        "\n",
        "    def is_alive(self):\n",
        "        return self.health > 0\n",
        "\n",
        "    def take_damage(self, damage):\n",
        "        self.health -= damage\n",
        "        if self.health < 0:\n",
        "            self.health = 0\n",
        "\n",
        "    def attack_target(self, target):\n",
        "        damage = random.randint(1, self.attack)\n",
        "        target.take_damage(damage)\n",
        "\n",
        "class Player(Character):\n",
        "    def __init__(self, name):\n",
        "        super().__init__(name, health=50, attack=10)\n",
        "        self.level = 1\n",
        "\n",
        "    def level_up(self):\n",
        "        self.level += 1\n",
        "        self.attack += 2\n",
        "        print(f\"{self.name} 레벨업! 이제 레벨 {self.level}야.\")\n",
        "\n",
        "class Monster(Character):\n",
        "    def __init__(self, name, level):\n",
        "        health = level * 10\n",
        "        attack = level * 3\n",
        "        super().__init__(name, health, attack)\n",
        "\n",
        "def battle(player, monster):\n",
        "    print(f\"안돼! {monster.name} 가 나타났어!\")\n",
        "\n",
        "    while player.is_alive() and monster.is_alive():\n",
        "        player.attack_target(monster)\n",
        "        print(f\"너는 {monster.name}을 때렸어! 체력이 {monster.health} 만큼 남았어.\")\n",
        "\n",
        "        if monster.is_alive():\n",
        "            monster.attack_target(player)\n",
        "            print(f\"{monster.name} 가 널 때렸어! 너는 {player.health} 만큼 체력이 남았어t.\")\n",
        "\n",
        "    if player.is_alive():\n",
        "        print(f\"넌 {monster.name}을 이겼어! 잘했어!\")\n",
        "        player.level_up()\n",
        "    else:\n",
        "        print(f\"안돼! {monster.name} 가 널 이겼어...\")\n",
        "\n",
        "def main():\n",
        "    monsters = [\n",
        "        Monster(\"슬라임\", 1),\n",
        "        Monster(\"고블린\", 2),\n",
        "        Monster(\"오크\", 3)\n",
        "    ]\n",
        "\n",
        "    player = Player(\"Hero\")\n",
        "\n",
        "    for monster in monsters:\n",
        "        battle(player, monster)\n",
        "        if not player.is_alive():\n",
        "            print(\"게임 끝! 다음에 다시 시도하시오.\")\n",
        "            return\n",
        "\n",
        "    print(\"전투 승리\")\n",
        "\n",
        "if __name__ == \"__main__\":\n",
        "    main()\n"
      ]
    }
  ]
}