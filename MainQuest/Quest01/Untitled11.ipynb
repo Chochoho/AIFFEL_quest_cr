{
  "nbformat": 4,
  "nbformat_minor": 0,
  "metadata": {
    "colab": {
      "provenance": [],
      "authorship_tag": "ABX9TyN2NtSBhbfq/e3xmvazQTQW",
      "include_colab_link": true
    },
    "kernelspec": {
      "name": "python3",
      "display_name": "Python 3"
    },
    "language_info": {
      "name": "python"
    }
  },
  "cells": [
    {
      "cell_type": "markdown",
      "metadata": {
        "id": "view-in-github",
        "colab_type": "text"
      },
      "source": [
        "<a href=\"https://colab.research.google.com/github/Chochoho/AIFFEL_quest_cr/blob/main/MainQuest/Quest01/Untitled11.ipynb\" target=\"_parent\"><img src=\"https://colab.research.google.com/assets/colab-badge.svg\" alt=\"Open In Colab\"/></a>"
      ]
    },
    {
      "cell_type": "code",
      "execution_count": 6,
      "metadata": {
        "colab": {
          "base_uri": "https://localhost:8080/"
        },
        "id": "WMLvfsA33_QX",
        "outputId": "a6d86d88-9e4b-4762-9ead-85651897fa9e"
      },
      "outputs": [
        {
          "output_type": "stream",
          "name": "stdout",
          "text": [
            "은행이름:  SC은행\n",
            "예금주:  KIM\n",
            "계좌번호:  695-09-225189\n",
            "잔고:  232,500.00\n",
            "\n",
            "입금 내역:\n",
            "입금 내역:\n",
            "10000\n",
            "20000\n",
            "30000\n",
            "40000\n",
            "50000\n",
            "\n",
            "출금 내역:\n",
            "출금 내역:\n",
            "20000\n",
            "\n",
            "1,000,000원 이상 가진 계좌 정보:\n",
            "총 계좌 수: 2\n"
          ]
        }
      ],
      "source": [
        "import random\n",
        "\n",
        "class Account:\n",
        "    account_count = 0  # 은행에 계좌가 몇 개 있는지 셀 거예요!\n",
        "\n",
        "    def __init__(self, name, balance):\n",
        "        self.deposit_count = 0  # 돈을 몇 번 넣었는지 셀 거예요!\n",
        "        self.deposit_log = []  # 돈을 넣은 기록\n",
        "        self.withdraw_log = []  # 돈을 뺀 기록\n",
        "\n",
        "        self.name = name  # 계좌 주인의 이름이에요\n",
        "        self.balance = balance  # 계좌에 있는 돈이에요\n",
        "        self.bank = \"SC은행\"  # 은행 이름이에요\n",
        "\n",
        "        # 계좌번호 만들기 (예: 001-01-000001)\n",
        "        num1 = str(random.randint(0, 999)).zfill(3)\n",
        "        num2 = str(random.randint(0, 99)).zfill(2)\n",
        "        num3 = str(random.randint(0, 999999)).zfill(6)\n",
        "        self.account_number = num1 + '-' + num2 + '-' + num3\n",
        "\n",
        "        Account.account_count += 1  # 계좌를 하나 더 만들었어요!\n",
        "\n",
        "    @classmethod\n",
        "    def get_account_num(cls):\n",
        "        print(f\"총 계좌 수: {cls.account_count}\")\n",
        "\n",
        "    def deposit(self, amount):\n",
        "        if amount >= 1:  # 1원 이상만 입금 가능해요\n",
        "            self.deposit_log.append(amount)  # 입금한 금액 기록하기\n",
        "            self.balance += amount  # 잔고에 더하기\n",
        "            self.deposit_count += 1  # 입금 횟수 늘리기\n",
        "\n",
        "            if self.deposit_count % 5 == 0:  # 5번째 입금마다 보너스!\n",
        "                self.balance *= 1.01  # 잔고에 1% 더하기\n",
        "\n",
        "    def withdraw(self, amount):\n",
        "        if self.balance >= amount:  # 잔고가 있어야 출금 가능해요\n",
        "            self.withdraw_log.append(amount)  # 출금한 금액 기록하기\n",
        "            self.balance -= amount  # 잔고에서 빼기\n",
        "\n",
        "    def display_info(self):\n",
        "        print(\"은행이름: \", self.bank)\n",
        "        print(\"예금주: \", self.name)\n",
        "        print(\"계좌번호: \", self.account_number)\n",
        "        print(\"잔고: \", f\"{self.balance:,.2f}\")  # 잔고 보기\n",
        "\n",
        "    def withdraw_history(self):\n",
        "        print(\"출금 내역:\")\n",
        "        for amount in self.withdraw_log:\n",
        "            print(amount)\n",
        "\n",
        "    def deposit_history(self):\n",
        "        print(\"입금 내역:\")\n",
        "        for amount in self.deposit_log:\n",
        "            print(amount)\n",
        "\n",
        "# 계좌 사용하기\n",
        "if __name__ == \"__main__\":\n",
        "    kim = Account(\"KIM\", 100000)  # 김씨 계좌 만들기\n",
        "    lee = Account(\"LEE\", 50000)  # 이씨 계좌 만들기\n",
        "\n",
        "    kim.deposit(10000)  # 김씨가 돈을 넣어요\n",
        "    kim.deposit(20000)\n",
        "    kim.deposit(30000)\n",
        "    kim.deposit(40000)\n",
        "    kim.deposit(50000)  # 5번째 입금, 보너스!\n",
        "\n",
        "    kim.withdraw(20000)  # 김씨가 돈을 빼요\n",
        "\n",
        "    kim.display_info()  # 김씨의 계좌 정보 보기\n",
        "\n",
        "    print(\"\\n입금 내역:\")\n",
        "    kim.deposit_history()  # 입금 기록 보기\n",
        "\n",
        "    print(\"\\n출금 내역:\")\n",
        "    kim.withdraw_history()  # 출금 기록 보기\n",
        "\n",
        "    print(\"\\n1,000,000원 이상 가진 계좌 정보:\")\n",
        "    for account in [kim, lee]:\n",
        "        if account.balance >= 1000000:\n",
        "            account.display_info()\n",
        "\n",
        "    Account.get_account_num()  # 총 계좌 수 보기\n",
        "\n"
      ]
    }
  ]
}