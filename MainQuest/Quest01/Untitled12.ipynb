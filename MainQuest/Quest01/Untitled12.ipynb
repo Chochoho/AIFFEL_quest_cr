{
  "nbformat": 4,
  "nbformat_minor": 0,
  "metadata": {
    "colab": {
      "provenance": [],
      "authorship_tag": "ABX9TyMkOQd47UczhsAJwMAbM0aL",
      "include_colab_link": true
    },
    "kernelspec": {
      "name": "python3",
      "display_name": "Python 3"
    },
    "language_info": {
      "name": "python"
    }
  },
  "cells": [
    {
      "cell_type": "markdown",
      "metadata": {
        "id": "view-in-github",
        "colab_type": "text"
      },
      "source": [
        "<a href=\"https://colab.research.google.com/github/Chochoho/AIFFEL_quest_cr/blob/main/MainQuest/Quest01/Untitled12.ipynb\" target=\"_parent\"><img src=\"https://colab.research.google.com/assets/colab-badge.svg\" alt=\"Open In Colab\"/></a>"
      ]
    },
    {
      "cell_type": "code",
      "execution_count": 8,
      "metadata": {
        "colab": {
          "base_uri": "https://localhost:8080/"
        },
        "id": "_3Cyfgqu7F4A",
        "outputId": "764e7ab6-01a9-4ecd-e6d4-738253ecfc48"
      },
      "outputs": [
        {
          "output_type": "stream",
          "name": "stdout",
          "text": [
            "Oh no! Slime appeared!\n",
            "You hit Slime! It has 5 HP left.\n",
            "Slime hit you! You have 48 HP left.\n",
            "You hit Slime! It has 1 HP left.\n",
            "Slime hit you! You have 46 HP left.\n",
            "You hit Slime! It has 0 HP left.\n",
            "You defeated Slime! Great job!\n",
            "Hero leveled up! Now level 2.\n",
            "Oh no! Goblin appeared!\n",
            "You hit Goblin! It has 9 HP left.\n",
            "Goblin hit you! You have 40 HP left.\n",
            "You hit Goblin! It has 0 HP left.\n",
            "You defeated Goblin! Great job!\n",
            "Hero leveled up! Now level 3.\n",
            "Oh no! Orc appeared!\n",
            "You hit Orc! It has 20 HP left.\n",
            "Orc hit you! You have 34 HP left.\n",
            "You hit Orc! It has 15 HP left.\n",
            "Orc hit you! You have 28 HP left.\n",
            "You hit Orc! It has 14 HP left.\n",
            "Orc hit you! You have 25 HP left.\n",
            "You hit Orc! It has 3 HP left.\n",
            "Orc hit you! You have 16 HP left.\n",
            "You hit Orc! It has 1 HP left.\n",
            "Orc hit you! You have 8 HP left.\n",
            "You hit Orc! It has 0 HP left.\n",
            "You defeated Orc! Great job!\n",
            "Hero leveled up! Now level 4.\n",
            "Hooray! You defeated all the monsters!\n"
          ]
        }
      ],
      "source": [
        "import random\n",
        "\n",
        "class Character:\n",
        "    def __init__(self, name, health, attack):\n",
        "        self.name = name\n",
        "        self.health = health\n",
        "        self.attack = attack\n",
        "\n",
        "    def is_alive(self):\n",
        "        return self.health > 0\n",
        "\n",
        "    def take_damage(self, damage):\n",
        "        self.health -= damage\n",
        "        if self.health < 0:\n",
        "            self.health = 0\n",
        "\n",
        "    def attack_target(self, target):\n",
        "        damage = random.randint(1, self.attack)\n",
        "        target.take_damage(damage)\n",
        "\n",
        "class Player(Character):\n",
        "    def __init__(self, name):\n",
        "        super().__init__(name, health=50, attack=10)\n",
        "        self.level = 1\n",
        "\n",
        "    def level_up(self):\n",
        "        self.level += 1\n",
        "        self.attack += 2\n",
        "        print(f\"{self.name} leveled up! Now level {self.level}.\")\n",
        "\n",
        "class Monster(Character):\n",
        "    def __init__(self, name, level):\n",
        "        health = level * 10\n",
        "        attack = level * 3\n",
        "        super().__init__(name, health, attack)\n",
        "\n",
        "def battle(player, monster):\n",
        "    print(f\"Oh no! {monster.name} appeared!\")\n",
        "\n",
        "    while player.is_alive() and monster.is_alive():\n",
        "        player.attack_target(monster)\n",
        "        print(f\"You hit {monster.name}! It has {monster.health} HP left.\")\n",
        "\n",
        "        if monster.is_alive():\n",
        "            monster.attack_target(player)\n",
        "            print(f\"{monster.name} hit you! You have {player.health} HP left.\")\n",
        "\n",
        "    if player.is_alive():\n",
        "        print(f\"You defeated {monster.name}! Great job!\")\n",
        "        player.level_up()\n",
        "    else:\n",
        "        print(f\"Oh no! {monster.name} defeated you...\")\n",
        "\n",
        "def main():\n",
        "    monsters = [\n",
        "        Monster(\"Slime\", 1),\n",
        "        Monster(\"Goblin\", 2),\n",
        "        Monster(\"Orc\", 3)\n",
        "    ]\n",
        "\n",
        "    player = Player(\"Hero\")\n",
        "\n",
        "    for monster in monsters:\n",
        "        battle(player, monster)\n",
        "        if not player.is_alive():\n",
        "            print(\"Game Over! Try again next time.\")\n",
        "            return\n",
        "\n",
        "    print(\"Hooray! You defeated all the monsters!\")\n",
        "\n",
        "if __name__ == \"__main__\":\n",
        "    main()\n"
      ]
    }
  ]
}