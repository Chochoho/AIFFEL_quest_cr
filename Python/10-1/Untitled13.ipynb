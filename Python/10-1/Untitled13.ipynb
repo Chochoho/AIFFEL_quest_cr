{
  "nbformat": 4,
  "nbformat_minor": 0,
  "metadata": {
    "colab": {
      "provenance": [],
      "authorship_tag": "ABX9TyPv6dgNApjx/AzHMy7Evfh/",
      "include_colab_link": true
    },
    "kernelspec": {
      "name": "python3",
      "display_name": "Python 3"
    },
    "language_info": {
      "name": "python"
    }
  },
  "cells": [
    {
      "cell_type": "markdown",
      "metadata": {
        "id": "view-in-github",
        "colab_type": "text"
      },
      "source": [
        "<a href=\"https://colab.research.google.com/github/Chochoho/AIFFEL_quest_cr/blob/main/Python/10-1/Untitled13.ipynb\" target=\"_parent\"><img src=\"https://colab.research.google.com/assets/colab-badge.svg\" alt=\"Open In Colab\"/></a>"
      ]
    },
    {
      "cell_type": "code",
      "execution_count": null,
      "metadata": {
        "colab": {
          "base_uri": "https://localhost:8080/"
        },
        "id": "Uh7kcioQEZJt",
        "outputId": "998901a1-e87c-491a-d4ba-016cc7f9194d"
      },
      "outputs": [
        {
          "output_type": "stream",
          "name": "stdout",
          "text": [
            "⟝------------------------------⟞\n",
            "| 메뉴                 가격  |\n",
            "| ----------------------------|\n",
            "| 1. HOT americano          2000 |\n",
            "| 2. ICE latte              3000 |\n",
            "| 3. ICE mocha              3000 |\n",
            "| 4. ICE choco_latte        3000 |\n",
            "⟝------------------------------⟞\n",
            "\n",
            "메뉴를 선택하세요. (끝내려면 0을 입력)\n"
          ]
        }
      ],
      "source": [
        "class Kiosk:\n",
        "    def __init__(self):\n",
        "        self.menu_temp = ['HOT americano', 'ICE latte', 'ICE mocha', 'ICE choco_latte']\n",
        "        self.price_temp = [2000, 3000, 3000, 3000]\n",
        "        self.order_list = []\n",
        "\n",
        "    def menu_print(self):\n",
        "        print('⟝' + '-' * 30 + '⟞')\n",
        "        print('| 메뉴                 가격  |')\n",
        "        print('| ' + '-' * 28 + '|')\n",
        "        for i in range(len(self.menu_temp)):\n",
        "            print(f'| {i + 1}. {self.menu_temp[i].ljust(20)} {str(self.price_temp[i]).rjust(6)} |')\n",
        "        print('⟝' + '-' * 30 + '⟞')\n",
        "\n",
        "    def menu_select(self):\n",
        "        print(\"\\n메뉴를 선택하세요. (끝내려면 0을 입력)\")\n",
        "        while True:\n",
        "            try:\n",
        "                choice = input(\"메뉴 번호를 입력하세요: \")\n",
        "                if not choice:  # 빈 입력 처리\n",
        "                    print(\"입력이 비어 있습니다. 다시 시도하세요.\")\n",
        "                    continue\n",
        "                choice = int(choice)\n",
        "                if choice == 0:\n",
        "                    if not self.order_list:\n",
        "                        print(\"주문이 없습니다. 메뉴를 선택하세요.\")\n",
        "                        continue\n",
        "                    break\n",
        "                elif 1 <= choice <= len(self.menu_temp):\n",
        "                    self.order_list.append(choice - 1)\n",
        "                    print(f\"{self.menu_temp[choice - 1]} 추가됨.\")\n",
        "                else:\n",
        "                    print(\"잘못된 번호입니다. 다시 입력하세요.\")\n",
        "            except ValueError:\n",
        "                print(\"유효한 숫자를 입력하세요.\")\n",
        "\n",
        "    def pay(self):\n",
        "        if not self.order_list:\n",
        "            print(\"주문이 없습니다. 주문을 먼저 진행하세요.\")\n",
        "            return\n",
        "        total = sum(self.price_temp[i] for i in self.order_list)\n",
        "        print(f\"총 금액은 {total}원입니다.\")\n",
        "        while True:\n",
        "            try:\n",
        "                money = input(\"지불할 금액을 입력하세요: \")\n",
        "                if not money:  # 빈 입력 처리\n",
        "                    print(\"입력이 비어 있습니다. 다시 시도하세요.\")\n",
        "                    continue\n",
        "                money = int(money)\n",
        "                if money >= total:\n",
        "                    change = money - total\n",
        "                    print(f\"결제가 완료되었습니다. 잔돈: {change}원\")\n",
        "                    break\n",
        "                else:\n",
        "                    print(f\"금액이 부족합니다. 추가로 {total - money}원을 더 입력하세요.\")\n",
        "            except ValueError:\n",
        "                print(\"유효한 숫자를 입력하세요.\")\n",
        "\n",
        "    def table(self):\n",
        "        if not self.order_list:\n",
        "            print(\"주문 내역이 없습니다.\")\n",
        "            return\n",
        "        print(\"\\n[주문 내역]\")\n",
        "        print('⟝' + '-' * 30 + '⟞')\n",
        "        for i in self.order_list:\n",
        "            print(f\"{self.menu_temp[i].ljust(20)} {str(self.price_temp[i]).rjust(6)}\")\n",
        "        print('⟝' + '-' * 30 + '⟞')\n",
        "        total = sum(self.price_temp[i] for i in self.order_list)\n",
        "        print(f\"합계 금액: {total}원\")\n",
        "\n",
        "# 객체 생성 및 실행\n",
        "a = Kiosk()\n",
        "a.menu_print()\n",
        "a.menu_select()\n",
        "a.pay()\n",
        "a.table()\n"
      ]
    }
  ]
}